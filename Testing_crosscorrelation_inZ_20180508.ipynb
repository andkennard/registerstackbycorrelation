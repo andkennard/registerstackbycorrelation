{
 "cells": [
  {
   "cell_type": "code",
   "execution_count": 1,
   "metadata": {},
   "outputs": [],
   "source": [
    "import numpy as np\n",
    "import pims\n",
    "from pims.bioformats import BioformatsReader\n",
    "import skimage as ski\n",
    "import skimage.transform as skitransform\n",
    "import matplotlib.pyplot as plt\n",
    "%matplotlib inline\n",
    "import time\n",
    "from sklearn import linear_model\n",
    "import sklearn\n",
    "import register_stack_correlation_lib as reglib\n",
    "from tifffile import TiffWriter\n",
    "import os"
   ]
  },
  {
   "cell_type": "code",
   "execution_count": 2,
   "metadata": {},
   "outputs": [],
   "source": [
    "%load_ext autoreload\n",
    "%autoreload 2"
   ]
  },
  {
   "cell_type": "code",
   "execution_count": 4,
   "metadata": {},
   "outputs": [],
   "source": [
    "# Load image reader\n",
    "data_path = ('/Users/akennard/Analysis/2018-05-02_3dpf_bact2EGFPCAAX/'\n",
    "             '20180502_63x_2xopt_Wounding_2')\n",
    "image_source = os.path.join(data_path,\n",
    "                '20180502_63x_2xopt_Wounding_2_Subimage_downsampled.tif')\n",
    "images = BioformatsReader(image_source)\n",
    "\n",
    "images.bundle_axes = 'zyx'\n",
    "images.iter_axes = 't'"
   ]
  },
  {
   "cell_type": "code",
   "execution_count": 80,
   "metadata": {},
   "outputs": [],
   "source": [
    "# Set two example images (zyx stacks) and downsample\n",
    "downscale_factor = 4\n",
    "im0 = images[15]\n",
    "im1 = images[16]\n",
    "im0_downscaled = reglib.downscale_frame(im0,downscale_factor)\n",
    "im1_downscaled = reglib.downscale_frame(im1,downscale_factor)"
   ]
  },
  {
   "cell_type": "code",
   "execution_count": null,
   "metadata": {},
   "outputs": [],
   "source": [
    "MAX_CORRELATION_THRESH = 0.2\n",
    "max_correlation = reglib.comput_phase_corr_stacks(im0_downscaled,\n",
    "                                                  im1_downscaled)\n",
    "if np.max(max_correlation) > MAX_CORRELATION_THRESH:\n",
    "    intercept = reglib.fit_intercept_ransac(max_correlation)\n",
    "else:\n",
    "    intercept = 0\n",
    "\n"
   ]
  },
  {
   "cell_type": "code",
   "execution_count": 81,
   "metadata": {},
   "outputs": [],
   "source": [
    "# Compute phase correlation and the correct fitted intercept for the correlation\n",
    "t0 = time.perf_counter()\n",
    "max_correlation = reglib.compute_phase_corr_stacks(im0_downscaled,im1_downscaled)\n",
    "t1 = time.perf_counter()\n",
    "print(\"Max correlation: \\t\",np.max(max_correlation))\n",
    "print(\"Time elapsed: \\t\\t\", t1-t0)\n",
    "fig,ax = plt.subplots(figsize=(10,20),ncols=2)\n",
    "ax[0].imshow(max_correlation)\n",
    "ax[1].imshow(max_correlation)\n",
    "intercept = reglib.fit_intercept_ransac(max_correlation)\n",
    "X = np.arange(max_correlation.shape[0])\n",
    "ax[1].plot(X,X+intercept,c='r')\n",
    "print(\"Fitted intercept: \\t\", intercept)"
   ]
  },
  {
   "cell_type": "code",
   "execution_count": 9,
   "metadata": {},
   "outputs": [],
   "source": [
    "# Convert the intercept into a registration to save; for now just round to the nearest whole frame\n",
    "# intercept -k --> cut off the first k frames from im1 and append k blank frames at the end of im1\n",
    "# intercept +k --> append k blank frames to the front of im1 and cut off the last k frames\n",
    "frame_difference = int(round(intercept))\n",
    "im1_reg = np.zeros_like(im1)\n",
    "if frame_difference < 0:\n",
    "    im1_reg[:frame_difference, ...] = im1[(-frame_difference):, ...]\n",
    "elif frame_difference > 0:\n",
    "    im1_reg[frame_difference:, ...] = im1[:(-frame_difference), ...]\n",
    "else:\n",
    "    im1_reg = im1;\n",
    "save_name = os.path.join(data_path,'testRegistration','im0_reg.tif')\n",
    "with TiffWriter(save_name,imagej=True) as writer:\n",
    "    writer.save(im0)\n",
    "save_name = os.path.join(data_path,'testRegistration','im1_reg.tif')\n",
    "with TiffWriter(save_name,imagej=True) as writer:\n",
    "    writer.save(im1_reg)"
   ]
  },
  {
   "cell_type": "code",
   "execution_count": null,
   "metadata": {},
   "outputs": [],
   "source": [
    "MAX_CORRELATION_THRESH = 0.2\n",
    "save_path = os.path.join(data_path,'testRegistration')\n",
    "im0 = images[0]\n",
    "im0_downscaled = reglib.downscale_frame(im0, downscale_factor)\n",
    "cumul_offset = np.zeros(len(images))\n",
    "offset = np.zeros(len(images))\n",
    "t0 = time.perf_counter()\n",
    "for i in range(1,len(images)):\n",
    "    im1 = images[i]\n",
    "    im1_downscaled = reglib.downscale_frame(im1, downscale_factor)\n",
    "    max_correlation = reglib.compute_phase_corr_stacks(im0_downscaled,\n",
    "                                                      im1_downscaled)\n",
    "    if np.max(max_correlation) > MAX_CORRELATION_THRESH:\n",
    "        offset[i] = reglib.fit_intercept_ransac(max_correlation)\n",
    "    else:\n",
    "        offset[i] = 0\n",
    "    cumul_offset[i] = cumul_offset[i-1] + offset[i]\n",
    "    im0_downscaled = im1_downscaled\n",
    "    "
   ]
  },
  {
   "cell_type": "code",
   "execution_count": 86,
   "metadata": {},
   "outputs": [],
   "source": [
    "t1 = time.perf_counter()\n",
    "print('Calculating phase correlation:\\t',t1-t0)\n",
    "t0 = time.perf_counter()\n",
    "for i in range(len(images)):\n",
    "    im_reg = reglib.register_frame(i,images[i],cumul_offset)\n",
    "    save_name = os.path.join(save_path,'im_reg_t{:03}.tif'.format(i))\n",
    "    with TiffWriter(save_name, imagej=True) as writer:\n",
    "        im_reg.resize((im_reg.shape[0],1) + im_reg.shape[1:])\n",
    "        writer.save(im_reg)\n",
    "t1 = time.perf_counter()\n",
    "print('Writing images:\\t\\t',t1-t0)\n",
    "print(cumul_offset)"
   ]
  },
  {
   "cell_type": "code",
   "execution_count": 69,
   "metadata": {},
   "outputs": [],
   "source": [
    "for i in range(30):\n",
    "    im_reg = reglib.register_frame(i,images[i],cumul_offset)\n",
    "    save_name = os.path.join(save_path,'im_reg_t{:03}.tif'.format(i))\n",
    "    with TiffWriter(save_name, imagej=True) as writer:\n",
    "        writer.save(im_reg)\n",
    "        \n",
    "print(cumul_offset)\n",
    "    \n",
    "    "
   ]
  },
  {
   "cell_type": "markdown",
   "metadata": {},
   "source": [
    "It seems to be working! The issue remaining is that in the process of registering frames in the current method a lot of data is lost. Better approach is to loop through and extract all the intercepts, then use those to determine the size of the registered dataset (it will move up and down in _z_) and then save every file to that new system"
   ]
  },
  {
   "cell_type": "code",
   "execution_count": 85,
   "metadata": {},
   "outputs": [],
   "source": [
    "x = np.resize(im_reg,(131,1,236,400))\n",
    "with TiffWriter(os.path.join(save_path,'testIm.tif'), imagej=True) as writer:\n",
    "    writer.save(x)"
   ]
  },
  {
   "cell_type": "code",
   "execution_count": 67,
   "metadata": {},
   "outputs": [],
   "source": [
    "min_offset = int(round(np.min(cumul_offset))) #always <= 0\n",
    "max_offset = int(round(np.max(cumul_offset)))\n",
    "original_len = im0.shape[0]\n",
    "new_length = im0.shape[0] - min_offset + max_offset\n",
    "frame_difference = int(round(cumul_offset[10]))\n",
    "im_reg_shape = (new_length,) + im0.shape[1:]\n",
    "im_reg = np.zeros(im_reg_shape,dtype=im0.dtype)\n",
    "new_start = frame_difference - min_offset\n",
    "new_end   = frame_difference - min_offset + original_len\n",
    "im_reg[new_start:new_end,...] = im0"
   ]
  },
  {
   "cell_type": "code",
   "execution_count": 82,
   "metadata": {},
   "outputs": [],
   "source": [
    "plt.plot(cumul_offset)"
   ]
  },
  {
   "cell_type": "code",
   "execution_count": 62,
   "metadata": {},
   "outputs": [],
   "source": [
    "im0.shape[1:]"
   ]
  },
  {
   "cell_type": "code",
   "execution_count": null,
   "metadata": {},
   "outputs": [],
   "source": []
  }
 ],
 "metadata": {
  "git": {
   "suppress_outputs": true
  },
  "kernelspec": {
   "display_name": "Python 3",
   "language": "python",
   "name": "python3"
  },
  "language_info": {
   "codemirror_mode": {
    "name": "ipython",
    "version": 3
   },
   "file_extension": ".py",
   "mimetype": "text/x-python",
   "name": "python",
   "nbconvert_exporter": "python",
   "pygments_lexer": "ipython3",
   "version": "3.6.4"
  }
 },
 "nbformat": 4,
 "nbformat_minor": 2
}