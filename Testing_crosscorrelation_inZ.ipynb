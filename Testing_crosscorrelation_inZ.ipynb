{
 "cells": [
  {
   "cell_type": "code",
   "execution_count": 28,
   "metadata": {},
   "outputs": [],
   "source": [
    "import numpy as np\n",
    "import pims\n",
    "from pims.bioformats import BioformatsReader\n",
    "import skimage as ski\n",
    "import skimage.transform as skitransform\n",
    "import matplotlib.pyplot as plt\n",
    "%matplotlib inline\n",
    "import time\n",
    "from sklearn import linear_model\n",
    "import sklearn\n",
    "import register_stack_correlation_lib as reglib\n",
    "%autoreload 2\n"
   ]
  },
  {
   "cell_type": "code",
   "execution_count": null,
   "metadata": {},
   "outputs": [],
   "source": [
    "class IndexMaker:\n",
    "    def __init__(self,reader):\n",
    "        self.sizes = reader.sizes\n",
    "    def to_index(self,t,z):\n",
    "        return self.sizes['z'] * t + z"
   ]
  },
  {
   "cell_type": "code",
   "execution_count": 2,
   "metadata": {},
   "outputs": [],
   "source": [
    "image_source = ('/Users/andrewkennard/Desktop/'\n",
    "                '20180502_63x_2xopt_Wounding_2_Subimage_downsampled.tif')\n",
    "images = BioformatsReader(image_source)\n",
    "images.bundle_axes = 'zyx'\n",
    "images.iter_axes = 't'"
   ]
  },
  {
   "cell_type": "code",
   "execution_count": null,
   "metadata": {},
   "outputs": [],
   "source": [
    "t = 5\n",
    "z = 40\n",
    "k = images.sizes['z'] * t + z\n",
    "K = IndexMaker(images)\n",
    "plt.imshow(images[K.to_index(t,z)])"
   ]
  },
  {
   "cell_type": "code",
   "execution_count": 27,
   "metadata": {},
   "outputs": [],
   "source": [
    "downscale_factor = 4\n",
    "im0 = images[10]\n",
    "im1 = images[11]\n",
    "im0_downscaled = reglib.downscale_frame(im0,downscale_factor)\n",
    "im1_downscaled = reglib.downscale_frame(im1,downscale_factor)"
   ]
  },
  {
   "cell_type": "code",
   "execution_count": 11,
   "metadata": {},
   "outputs": [],
   "source": [
    "# Downsample image. Determine the appropriate image size based on the downsample factor. Downsample each image\n",
    "# in a z-stack--no good way to vectorize\n",
    "downscale_factor = 4\n",
    "t0 = time.perf_counter()\n",
    "test_downscale = skitransform.pyramid_reduce(im0[0,...],\n",
    "                     downscale=downscale_factor)\n",
    "downscale_shape = (im0.shape[0],) + test_downscale.shape\n",
    "im0_downscale = np.zeros(downscale_shape)\n",
    "im1_downscale = np.zeros(downscale_shape)\n",
    "for i in range(im0x.shape[0]):\n",
    "    im0_downscale[i,...] = skitransform.pyramid_reduce(im0[i,...],\n",
    "                               downscale=downscale_factor)\n",
    "    im1_downscale[i,...] = skitransform.pyramid_reduce(im1[i,...],\n",
    "                               downscale=downscale_factor)\n",
    "t1 = time.perf_counter()\n",
    "plt.imshow(im0_downscale[35,...])\n",
    "print(t1-t0)"
   ]
  },
  {
   "cell_type": "code",
   "execution_count": 20,
   "metadata": {},
   "outputs": [],
   "source": [
    "xx = im_0[:3,...]\n",
    "f0 = np.fft.fft2(xx)\n",
    "print(f0.shape)\n",
    "print(np.min(abs(f0)))\n",
    "print(np.max(abs(f0)))\n",
    "plt.imshow(abs(f0[0,...]))"
   ]
  },
  {
   "cell_type": "code",
   "execution_count": null,
   "metadata": {},
   "outputs": [],
   "source": []
  },
  {
   "cell_type": "code",
   "execution_count": null,
   "metadata": {},
   "outputs": [],
   "source": [
    "max_correlation = np.zeros((im_0.shape[0],im_1.shape[0]))\n",
    "max_correlationx = np.zeros((im0x.shape[0],im1x.shape[0]))\n",
    "mean0 = np.zeros((im_0.shape[0],1,1))\n",
    "mean1 = np.zeros((im_1.shape[0],1,1))\n",
    "mean0x = np.zeros((im_0.shape[0],1,1))\n",
    "mean1x = np.zeros((im_1.shape[0],1,1))\n",
    "for i in range(im_0.shape[0]):\n",
    "    mean0[i] = np.mean(im_0[i,...])\n",
    "    mean1[i] = np.mean(im_1[i,...])\n",
    "    mean0x[i] = np.mean(im0x[i,...])\n",
    "    mean1x[i] = np.mean(im1x[i,...])\n",
    "f0 = np.fft.fft2(im_0[...]/mean0)\n",
    "f1 = np.fft.fft2(im_1[...]/mean1)\n",
    "f0x = np.fft.fft2(im0x[...]/mean0x)\n",
    "f1x = np.fft.fft2(im1x[...]/mean1x)\n",
    "print(f0.shape)"
   ]
  },
  {
   "cell_type": "code",
   "execution_count": null,
   "metadata": {},
   "outputs": [],
   "source": [
    "t0=time.perf_counter()\n",
    "for i in range(im_1.shape[0]):\n",
    "        im_product = f0 * f1[i,...].conj()\n",
    "        cc_image = np.fft.ifft2(im_product)\n",
    "        #print(cc_image.shape)\n",
    "        ccx = cc_image.reshape(cc_image.shape[0],-1)\n",
    "        #ccx = im_product.reshape(im_product.shape[0],-1)\n",
    "        #print(ccx.shape)\n",
    "        max_correlation[:,i] = np.max(ccx.real,axis=1)\n",
    "t1 = time.perf_counter()\n",
    "print(t1-t0)"
   ]
  },
  {
   "cell_type": "code",
   "execution_count": null,
   "metadata": {},
   "outputs": [],
   "source": [
    "max_correlationx = np.zeros((im0x.shape[0],im1x.shape[0]))\n",
    "t0 = time.perf_counter()\n",
    "for i in range(im1x.shape[0]):\n",
    "    im_product = (f0x * f1x[i,...].conj())/np.abs(f0x * f1x[i,...].conj())\n",
    "    cc_image = np.fft.ifft2(im_product)\n",
    "    ccx = cc_image.reshape(cc_image.shape[0],-1)\n",
    "    max_correlationx[:,i] = np.max(ccx.real,axis=1)\n",
    "t1 = time.perf_counter()\n",
    "print(t1-t0)\n",
    "fig,ax = plt.subplots(figsize=(10,20),ncols=2)\n",
    "ax[0].imshow(max_correlation)\n",
    "ax[1].imshow(max_correlationx)\n",
    "print(np.max(max_correlationx))"
   ]
  },
  {
   "cell_type": "code",
   "execution_count": null,
   "metadata": {},
   "outputs": [],
   "source": [
    "# Implement a really stupid linear regression class where the slope is assumed \n",
    "# to be 1 i.e. just fit the intercept. The least-squares intercept is simply \n",
    "# the difference between the mean of X and the mean of y.\n",
    "# In order to use RANSAC to estimate, need to provide a fit(X,y) method and a \n",
    "# score(X,y) method. fit method will just return mean(y) - mean(x). \n",
    "# score method will return the R^2 coefficient of determination\n",
    "class DumbInterceptEstimator:\n",
    "    def fit(self,X,y):\n",
    "        self.intercept_ = np.mean(y) - np.mean(X)\n",
    "        return self\n",
    "    \n",
    "    \n",
    "    def predict(self,X):\n",
    "        return X + self.intercept_\n",
    "    \n",
    "    \n",
    "    def score(self,X,y):\n",
    "        y_pred = self.predict(X)\n",
    "        ss_res = ((y - y_pred)**2).sum()\n",
    "        ss_tot = ((y - np.mean(y))**2).sum()\n",
    "        return 1 - (ss_res / ss_tot)\n",
    "    \n",
    "    \n",
    "    def get_params(self,deep=True):\n",
    "        out = dict()\n",
    "        return out\n",
    "    \n",
    "    \n",
    "    def set_params(self,**params):\n",
    "        raise ValueError"
   ]
  },
  {
   "cell_type": "code",
   "execution_count": null,
   "metadata": {},
   "outputs": [],
   "source": [
    "from skimage.filters import (threshold_li,threshold_otsu)\n",
    "X = np.arange(max_correlationx.shape[0])\n",
    "y = np.argmax(max_correlationx,axis=0)\n",
    "w = np.max(max_correlationx,axis=0)\n",
    "li_threshold = threshold_otsu(max_correlationx)\n",
    "X = X[np.max(max_correlationx,axis=0)>=li_threshold]\n",
    "y = y[np.max(max_correlationx,axis=0)>=li_threshold]\n",
    "w = w[w>li_threshold]\n",
    "X = X.reshape(-1,1)\n",
    "y = y.reshape(-1,1)\n",
    "print(y.shape)\n",
    "plt.imshow(max_correlationx)\n",
    "plt.scatter(X,y,c='r')\n",
    "ransac = linear_model.RANSACRegressor(base_estimator=DumbInterceptEstimator(),residual_threshold=1.5)\n",
    "ransac.fit(X,y)\n",
    "plt.plot(X,ransac.predict(X),c='b')\n",
    "a = ransac.get_params()\n",
    "print(ransac.estimator_.intercept_)\n",
    "print(y.mean() - X.mean())\n",
    "print(max(w))\n",
    "print(ransac.residual_threshold)\n",
    "print(np.median(np.abs(y-np.median(y))))\n",
    "print(sum(ransac.inlier_mask_)/len(ransac.inlier_mask_))"
   ]
  },
  {
   "cell_type": "code",
   "execution_count": null,
   "metadata": {},
   "outputs": [],
   "source": []
  },
  {
   "cell_type": "code",
   "execution_count": null,
   "metadata": {},
   "outputs": [],
   "source": [
    "plt.plot(max_correlationx[72,:])\n",
    "print(np.array([np.arange(73),np.argmax(max_correlationx,axis=1)]))"
   ]
  },
  {
   "cell_type": "code",
   "execution_count": null,
   "metadata": {},
   "outputs": [],
   "source": [
    "fig,ax = plt.subplots(figsize=(10,20),ncols=3)\n",
    "ax[0].imshow(im_0[72,...])\n",
    "ax[1].imshow(im_1[52,...])\n",
    "ax[2].imshow(im_1[46,...])"
   ]
  },
  {
   "cell_type": "code",
   "execution_count": null,
   "metadata": {},
   "outputs": [],
   "source": [
    "from skimage.filters import try_all_threshold\n",
    "\n",
    "img = max_correlationx / np.max(max_correlationx)\n",
    "\n",
    "fig,ax = try_all_threshold(img,figsize=(10,8),verbose=False)\n",
    "plt.show()"
   ]
  },
  {
   "cell_type": "code",
   "execution_count": null,
   "metadata": {},
   "outputs": [],
   "source": [
    "im0x = ski.transform.resize(im_0,(73,118,200),anti_aliasing=True)\n",
    "print(im0x.shape)\n",
    "print(im_0.shape)\n",
    "fig,ax = plt.subplots(figsize=(10,20),nrows=1,ncols=2)\n",
    "ax[0].imshow(ski.transform.pyramid_reduce(im0x[35,...],downscale=4))\n",
    "ax[1].imshow(im_0[35,...])\n",
    "plt.show()"
   ]
  },
  {
   "cell_type": "code",
   "execution_count": null,
   "metadata": {},
   "outputs": [],
   "source": [
    "ski.__version__"
   ]
  },
  {
   "cell_type": "code",
   "execution_count": null,
   "metadata": {},
   "outputs": [],
   "source": [
    "min_difference = np.zeros((im_0.shape[0],im_1.shape[0]))\n",
    "for i in range(im_0.shape[0]):\n",
    "    x = np.abs(im_0 - im_1[i,...])\n",
    "    xx = x.reshape(x.shape[0],-1)\n",
    "    min_difference[i,:] = np.sum(xx,axis=1)\n",
    "plt.imshow(min_difference)"
   ]
  },
  {
   "cell_type": "code",
   "execution_count": null,
   "metadata": {},
   "outputs": [],
   "source": [
    "?plt.subplots"
   ]
  },
  {
   "cell_type": "code",
   "execution_count": null,
   "metadata": {},
   "outputs": [],
   "source": [
    "from skimage.transform import (hough_line,hough_line_peaks)\n",
    "h,theta,d = hough_line(max_correlation)\n",
    "hough_line_peaks(h,theta,d)"
   ]
  },
  {
   "cell_type": "code",
   "execution_count": null,
   "metadata": {},
   "outputs": [],
   "source": [
    "fig,ax = plt.subplots(figsize=(10,10))\n",
    "ax.imshow(max_correlation)\n",
    "for _, angle, dist in zip(*hough_line_peaks(h,theta,d)):\n",
    "    y0 = (dist - 0 * np.cos(angle)) / np.sin(angle)\n",
    "    y1 = (dist - 73 * np.cos(angle)) / np.sin(angle)\n",
    "    ax.plot((0,73),(y0,y1),'-r')\n",
    "ax.set_xlim((0,73))\n",
    "ax.set_ylim((73,0))"
   ]
  },
  {
   "cell_type": "code",
   "execution_count": null,
   "metadata": {},
   "outputs": [],
   "source": []
  }
 ],
 "metadata": {
  "git": {
   "suppress_outputs": true
  },
  "kernelspec": {
   "display_name": "Python 3",
   "language": "python",
   "name": "python3"
  },
  "language_info": {
   "codemirror_mode": {
    "name": "ipython",
    "version": 3
   },
   "file_extension": ".py",
   "mimetype": "text/x-python",
   "name": "python",
   "nbconvert_exporter": "python",
   "pygments_lexer": "ipython3",
   "version": "3.6.4"
  }
 },
 "nbformat": 4,
 "nbformat_minor": 2
}